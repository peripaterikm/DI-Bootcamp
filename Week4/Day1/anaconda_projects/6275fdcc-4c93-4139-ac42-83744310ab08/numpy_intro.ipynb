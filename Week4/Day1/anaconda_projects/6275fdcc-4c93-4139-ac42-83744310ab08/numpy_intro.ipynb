{
 "cells": [
  {
   "cell_type": "code",
   "execution_count": 1,
   "id": "2e2326ea-9aa6-475e-a1dc-f4cf2750f378",
   "metadata": {},
   "outputs": [
    {
     "name": "stdout",
     "output_type": "stream",
     "text": [
      "[1 2 3 4 5]\n"
     ]
    }
   ],
   "source": [
    "# Import the numpy package\n",
    "import numpy as np\n",
    "\n",
    "# Create a simple array\n",
    "my_array = np.array([1, 2, 3, 4, 5])\n",
    "print(my_array)"
   ]
  },
  {
   "cell_type": "code",
   "execution_count": 4,
   "id": "bbbfaa02-313e-413d-ae98-9d4aeecdef83",
   "metadata": {},
   "outputs": [
    {
     "name": "stdout",
     "output_type": "stream",
     "text": [
      "Одномерный массив:\n",
      "[1 2 3 4 5]\n",
      "\n",
      "Двумерный массив:\n",
      "[[1 2 3]\n",
      " [4 5 6]]\n",
      "Атрибуты одномерного массива:\n",
      "Форма (shape): (5,)\n",
      "Размер (size): 5\n",
      "Тип данных (dtype): int32\n",
      "\n",
      "Атрибуты двумерного массива:\n",
      "Форма (shape): (2, 3)\n",
      "Размер (size): 6\n",
      "Тип данных (dtype): int32\n",
      "\n",
      "Массив с типом float:\n",
      "[1. 2. 3.]\n",
      "Тип данных (dtype): float64\n",
      "Температуры за неделю: [28 30 29 31 27 26 30]\n",
      "\n",
      "Случайный массив 2x5 от 1 до 10:\n",
      "[[10  2 10  4  1]\n",
      " [ 1  6  5  2  6]]\n",
      "\n",
      "Трёхмерный массив пикселей RGB (3x3 изображение):\n",
      "[[[128 108 191]\n",
      "  [168  64  37]\n",
      "  [105  38 202]]\n",
      "\n",
      " [[217  11 124]\n",
      "  [133 252 194]\n",
      "  [ 39 148  54]]\n",
      "\n",
      " [[ 81 163  58]\n",
      "  [202  34  17]\n",
      "  [222 154 115]]]\n"
     ]
    }
   ],
   "source": [
    "import numpy as np\n",
    "\n",
    "# 1. Создание массивов\n",
    "one_d_array = np.arange(1, 6)  # одномерный массив от 1 до 5\n",
    "two_d_array = np.arange(1, 7).reshape(2, 3)  # двумерный массив от 1 до 6, 2 строки и 3 столбца\n",
    "\n",
    "# Вывод массивов\n",
    "print(\"Одномерный массив:\")\n",
    "print(one_d_array)\n",
    "print(\"\\nДвумерный массив:\")\n",
    "print(two_d_array)\n",
    "\n",
    "# 2. Проверка атрибутов\n",
    "print(\"Атрибуты одномерного массива:\")\n",
    "print(\"Форма (shape):\", one_d_array.shape)\n",
    "print(\"Размер (size):\", one_d_array.size)\n",
    "print(\"Тип данных (dtype):\", one_d_array.dtype)\n",
    "\n",
    "print(\"\\nАтрибуты двумерного массива:\")\n",
    "print(\"Форма (shape):\", two_d_array.shape)\n",
    "print(\"Размер (size):\", two_d_array.size)\n",
    "print(\"Тип данных (dtype):\", two_d_array.dtype)\n",
    "\n",
    "# 3. Создание массива с числами от 1 до 3 и типом float\n",
    "float_array = np.arange(1, 4, dtype=float)\n",
    "print(\"\\nМассив с типом float:\")\n",
    "print(float_array)\n",
    "print(\"Тип данных (dtype):\", float_array.dtype)\n",
    "\n",
    "temperatures = np.array([28, 30, 29, 31, 27, 26, 30])\n",
    "print(\"Температуры за неделю:\", temperatures)\n",
    "\n",
    "random_array = np.random.randint(1, 11, size=(2, 5))  # 2 строки, 5 столбцов\n",
    "print(\"\\nСлучайный массив 2x5 от 1 до 10:\")\n",
    "print(random_array)\n",
    "\n",
    "pixels = np.random.randint(0, 256, size=(3, 3, 3), dtype=np.uint8)\n",
    "print(\"\\nТрёхмерный массив пикселей RGB (3x3 изображение):\")\n",
    "print(pixels)\n"
   ]
  },
  {
   "cell_type": "code",
   "execution_count": 10,
   "id": "3c5f139c-c01a-4b9e-a569-ac0e2b977a5c",
   "metadata": {},
   "outputs": [
    {
     "name": "stdout",
     "output_type": "stream",
     "text": [
      "1D Array: [1 2 3 4]\n",
      "2D Array:\n",
      " [[1 2 3]\n",
      " [4 5 6]]\n",
      "Shape: (2, 3)\n",
      "Size: 6\n",
      "Data Type: int32\n",
      "Shape: (4, 4)\n",
      "Size: 16\n",
      "Data Type: int32\n"
     ]
    }
   ],
   "source": [
    "import numpy as np\n",
    "\n",
    "# Creating a 1D NumPy array\n",
    "array_1d = np.array([1, 2, 3, 4])\n",
    "print(\"1D Array:\", array_1d)  # Expected Output: 1D Array: [1 2 3 4]\n",
    "\n",
    "# Creating a 2D NumPy array\n",
    "array_2d = np.array([[1, 2, 3], [4, 5, 6]])\n",
    "print(\"2D Array:\\n\", array_2d)\n",
    "# Expected Output:\n",
    "# 2D Array:\n",
    "# [[1 2 3]\n",
    "#  [4 5 6]]\n",
    "\n",
    "# Array attributes\n",
    "print(\"Shape:\", array_2d.shape)  # Expected Output: Shape: (2, 3) - 2 rows and 3 columns\n",
    "print(\"Size:\", array_2d.size)   # Expected Output: Size: 6 - Total 6 elements\n",
    "print(\"Data Type:\", array_2d.dtype)  # Expected Output: Data Type: int64 (or similar, depending on system)\n",
    "\n",
    "\n",
    "array_4d = np.array([[1, 2, 3, 4], [5, 6, 7, 8], [9, 10, 11, 12], [13, 14, 15, 16]])\n",
    "print(\"Shape:\", array_4d.shape)  # Expected Output: Shape: (2, 3) - 2 rows and 3 columns\n",
    "print(\"Size:\", array_4d.size)   # Expected Output: Size: 6 - Total 6 elements\n",
    "print(\"Data Type:\", array_4d.dtype)  # Expected Output: Data Type: int64 (or similar, depending on system)\n"
   ]
  },
  {
   "cell_type": "code",
   "execution_count": 11,
   "id": "0b6dda29-ddec-4222-b873-c9aa640e3b56",
   "metadata": {},
   "outputs": [
    {
     "name": "stdout",
     "output_type": "stream",
     "text": [
      "Element at row 1, column 2: 6\n",
      "Second row: [4 5 6]\n",
      "Third column: [3 6 9]\n"
     ]
    }
   ],
   "source": [
    "import numpy as np\n",
    "\n",
    "# Example 2D array\n",
    "array_2d = np.array([[1, 2, 3], [4, 5, 6], [7, 8, 9]])\n",
    "\n",
    "# Accessing a single element\n",
    "print(\"Element at row 1, column 2:\", array_2d[1, 2])  # Output: 6\n",
    "\n",
    "# Accessing a row\n",
    "print(\"Second row:\", array_2d[1, :])  # Output: [4 5 6]\n",
    "\n",
    "# Accessing a column\n",
    "print(\"Third column:\", array_2d[:, 2])  # Output: [3 6 9]"
   ]
  },
  {
   "cell_type": "code",
   "execution_count": 15,
   "id": "029c2c6d-e673-486c-a638-0795e76fa853",
   "metadata": {},
   "outputs": [
    {
     "name": "stdout",
     "output_type": "stream",
     "text": [
      "[[1 2 3]\n",
      " [4 5 6]\n",
      " [7 8 9]]\n",
      "Slice of the array: [[2 3]\n",
      " [5 6]]\n"
     ]
    }
   ],
   "source": [
    "import numpy as np\n",
    "\n",
    "# Example 2D array\n",
    "array_2d = np.array([[1, 2, 3], [4, 5, 6], [7, 8, 9]])\n",
    "print(array_2d)\n",
    "\n",
    "# Slicing a portion of the array\n",
    "print(\"Slice of the array:\", array_2d[0:2, 1:3])  # Output: [[2 3] [5 6]]"
   ]
  },
  {
   "cell_type": "code",
   "execution_count": 17,
   "id": "1f66fc12-596a-4d52-91d3-5b94d79b504a",
   "metadata": {},
   "outputs": [
    {
     "name": "stdout",
     "output_type": "stream",
     "text": [
      "Result of Boolean Indexing: [4 5 6]\n"
     ]
    }
   ],
   "source": [
    "import numpy as np\n",
    "\n",
    "# Example array\n",
    "array = np.array([[1, 2], [3, 4], [5, 6]])\n",
    "\n",
    "# Boolean indexing\n",
    "result = array[array > 3]\n",
    "print(\"Result of Boolean Indexing:\", result)  # Output: [4 5 6], a 1D array\n"
   ]
  },
  {
   "cell_type": "code",
   "execution_count": 18,
   "id": "b6556fab-dd54-4eb4-9e42-abc3974b8307",
   "metadata": {},
   "outputs": [
    {
     "name": "stdout",
     "output_type": "stream",
     "text": [
      "First element: 10\n",
      "First three elements: [10 20 30]\n"
     ]
    }
   ],
   "source": [
    "import numpy as np\n",
    "\n",
    "# Creating a sample array\n",
    "array = np.array([10, 20, 30, 40, 50])\n",
    "\n",
    "# Indexing (accessing a single element)\n",
    "print(\"First element:\", array[0])\n",
    "\n",
    "# Slicing (accessing multiple elements)\n",
    "print(\"First three elements:\", array[:3])"
   ]
  },
  {
   "cell_type": "code",
   "execution_count": 28,
   "id": "e5b2ec78-c34c-4bd5-81ff-23df3c7b026c",
   "metadata": {},
   "outputs": [
    {
     "name": "stdout",
     "output_type": "stream",
     "text": [
      "5\n",
      "Slice of the array: [3 4 5 6 7 8]\n",
      "[2 4 6]\n"
     ]
    }
   ],
   "source": [
    "import numpy as np\n",
    "\n",
    "# Creating a sample array\n",
    "array = np.array([1, 2, 3, 4, 5, 6, 7, 8, 9, 10])\n",
    "\n",
    "print(array[4]) \n",
    "\n",
    "print(\"Slice of the array:\", array[2:8])\n",
    "\n",
    "print(array[[1, 3, 5]])\n"
   ]
  },
  {
   "cell_type": "code",
   "execution_count": 24,
   "id": "aba50af6-006d-4bb1-9aaf-87d31a12642f",
   "metadata": {},
   "outputs": [
    {
     "name": "stdout",
     "output_type": "stream",
     "text": [
      "[40 50]\n"
     ]
    }
   ],
   "source": [
    "import numpy as np\n",
    "\n",
    "# Creating a sample array\n",
    "array = np.array([10, 20, 30, 40, 50])\n",
    "\n",
    "# Indexing (accessing a single element)\n",
    "print(array[array > 30])\n"
   ]
  },
  {
   "cell_type": "code",
   "execution_count": null,
   "id": "dd014be4-e78e-4d59-beb6-191557e3cb84",
   "metadata": {},
   "outputs": [],
   "source": [
    "import numpy as np\n",
    "\n",
    "arr1 = np.arange(1, 11)  # [1, 2, ..., 10]\n",
    "arr1[4] = 50  # fifth element (index 4)\n",
    "print(\"Modified array:\", arr1)"
   ]
  },
  {
   "cell_type": "code",
   "execution_count": 30,
   "id": "485ecc2d-3529-409b-af0e-b2e57c027b8a",
   "metadata": {},
   "outputs": [
    {
     "name": "stdout",
     "output_type": "stream",
     "text": [
      "Negative slice: [ 0  1  2 -3 -4 -5 -6 -7  8  9]\n"
     ]
    }
   ],
   "source": [
    "import numpy as np\n",
    "\n",
    "arr2 = np.arange(10)  # [0, 1, ..., 9]\n",
    "arr2[3:8] = -arr2[3:8]\n",
    "print(\"Negative slice:\", arr2)\n"
   ]
  },
  {
   "cell_type": "code",
   "execution_count": 31,
   "id": "dac0d7bd-9e12-49a9-a16f-df2ca4c39366",
   "metadata": {},
   "outputs": [
    {
     "name": "stdout",
     "output_type": "stream",
     "text": [
      "Modified with condition (values > 50 set to -1): [ 5 -1 -1 38 -1 -1 22 36 -1 -1  4 -1 -1 -1 -1 -1 -1 35  4 -1]\n"
     ]
    }
   ],
   "source": [
    "arr3 = np.random.randint(1, 101, size=20)\n",
    "arr3[arr3 > 50] = -1\n",
    "print(\"Modified with condition (values > 50 set to -1):\", arr3)\n"
   ]
  },
  {
   "cell_type": "code",
   "execution_count": 32,
   "id": "d5cef730-3980-47a3-8397-8a8364928e70",
   "metadata": {},
   "outputs": [
    {
     "name": "stdout",
     "output_type": "stream",
     "text": [
      "Original 2D array:\n",
      " [[7 8 7 1 2]\n",
      " [8 4 1 4 5]\n",
      " [3 3 2 4 6]\n",
      " [8 9 3 5 7]\n",
      " [9 3 3 3 4]]\n",
      "Diagonal doubled:\n",
      " [[14  8  7  1  2]\n",
      " [ 8  8  1  4  5]\n",
      " [ 3  3  4  4  6]\n",
      " [ 8  9  3 10  7]\n",
      " [ 9  3  3  3  8]]\n"
     ]
    }
   ],
   "source": [
    "arr4 = np.random.randint(1, 10, size=(5, 5))\n",
    "print(\"Original 2D array:\\n\", arr4)\n",
    "\n",
    "# Multiply diagonal elements by 2\n",
    "indices = np.arange(5)\n",
    "arr4[indices, indices] *= 2\n",
    "print(\"Diagonal doubled:\\n\", arr4)\n"
   ]
  },
  {
   "cell_type": "code",
   "execution_count": 33,
   "id": "20e8c274-6881-4bfa-ae40-261569b4c4cc",
   "metadata": {},
   "outputs": [
    {
     "name": "stdout",
     "output_type": "stream",
     "text": [
      "Modified slice: [999   3   4   5]\n",
      "Original array after slice modification: [  0   1 999   3   4   5   6   7   8   9]\n"
     ]
    }
   ],
   "source": [
    "arr5 = np.arange(10)\n",
    "slice_view = arr5[2:6]  # slice is a view, not a copy!\n",
    "slice_view[0] = 999\n",
    "print(\"Modified slice:\", slice_view)\n",
    "print(\"Original array after slice modification:\", arr5)\n"
   ]
  },
  {
   "cell_type": "code",
   "execution_count": null,
   "id": "341e77b3-2e95-4a35-a8d7-7ac36f961415",
   "metadata": {},
   "outputs": [],
   "source": []
  }
 ],
 "metadata": {
  "kernelspec": {
   "display_name": "Python [conda env:base] *",
   "language": "python",
   "name": "conda-base-py"
  },
  "language_info": {
   "codemirror_mode": {
    "name": "ipython",
    "version": 3
   },
   "file_extension": ".py",
   "mimetype": "text/x-python",
   "name": "python",
   "nbconvert_exporter": "python",
   "pygments_lexer": "ipython3",
   "version": "3.12.7"
  }
 },
 "nbformat": 4,
 "nbformat_minor": 5
}
