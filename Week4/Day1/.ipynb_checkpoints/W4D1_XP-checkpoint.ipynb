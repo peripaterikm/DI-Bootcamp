{
 "cells": [
  {
   "cell_type": "code",
   "execution_count": 2,
   "id": "82635ef7-2bbd-4725-a6f2-8c10d916cc1e",
   "metadata": {},
   "outputs": [
    {
     "name": "stdout",
     "output_type": "stream",
     "text": [
      "[0 1 2 3 4 5 6 7 8 9]\n"
     ]
    }
   ],
   "source": [
    "#Ex.1\n",
    "import numpy as np\n",
    "arr = np.arange(0, 10)\n",
    "print(arr)"
   ]
  },
  {
   "cell_type": "code",
   "execution_count": 6,
   "id": "cd82fef0-d062-4233-826d-62e2e5105d10",
   "metadata": {},
   "outputs": [
    {
     "name": "stdout",
     "output_type": "stream",
     "text": [
      "[3 2 0 1 2]\n"
     ]
    }
   ],
   "source": [
    "#Ex.2\n",
    "import numpy as np\n",
    "arr = np.array([3.14, 2.17, 0, 1, 2], dtype = int)\n",
    "print(arr)"
   ]
  },
  {
   "cell_type": "code",
   "execution_count": 8,
   "id": "306476e8-72b9-4771-8c7c-8745195cf8c9",
   "metadata": {},
   "outputs": [
    {
     "name": "stdout",
     "output_type": "stream",
     "text": [
      "[[1 2 3]\n",
      " [4 5 6]\n",
      " [7 8 9]]\n"
     ]
    }
   ],
   "source": [
    "#Ex.3\n",
    "import numpy as np\n",
    "arr = np.arange(1, 10)\n",
    "arr = arr.reshape(3, 3)\n",
    "print(arr)\n"
   ]
  },
  {
   "cell_type": "code",
   "execution_count": 12,
   "id": "65a37fb3-fda5-4a29-8363-1ad94c178455",
   "metadata": {},
   "outputs": [
    {
     "name": "stdout",
     "output_type": "stream",
     "text": [
      "[[0.57 0.24 0.2  0.19 0.09]\n",
      " [0.44 0.72 0.22 0.85 0.1 ]\n",
      " [0.34 0.76 0.97 0.   0.56]\n",
      " [0.29 0.42 0.8  0.69 0.59]]\n"
     ]
    }
   ],
   "source": [
    "#Ex.4\n",
    "import numpy as np\n",
    "arr = np.random.rand(4, 5)\n",
    "rounded_array = np.round(arr, 2)\n",
    "print(rounded_array)"
   ]
  },
  {
   "cell_type": "code",
   "execution_count": 17,
   "id": "5cd0918e-9c1c-4cb6-9125-e0077cc21af3",
   "metadata": {},
   "outputs": [
    {
     "name": "stdout",
     "output_type": "stream",
     "text": [
      "[[20 21 22 23 24]]\n"
     ]
    }
   ],
   "source": [
    "#Ex.5\n",
    "import numpy as np\n",
    "arr = np.array([[21,22,23,22,22],[20, 21, 22, 23, 24],[21,22,23,22,22]])\n",
    "print(arr[1:2])"
   ]
  },
  {
   "cell_type": "code",
   "execution_count": 19,
   "id": "bae3699f-01b4-44cc-b048-82a73b8e3c7a",
   "metadata": {},
   "outputs": [
    {
     "name": "stdout",
     "output_type": "stream",
     "text": [
      "Reversed array: [9 8 7 6 5 4 3 2 1 0]\n"
     ]
    }
   ],
   "source": [
    "#Ex.6\n",
    "import numpy as np\n",
    "array = np.arange(10)  # [0, 1, 2, 3, 4, 5, 6, 7, 8, 9]\n",
    "reversed_array = array[::-1]\n",
    "print(\"Reversed array:\", reversed_array)"
   ]
  },
  {
   "cell_type": "code",
   "execution_count": 24,
   "id": "2970f46d-35a1-46d3-b6cf-d62668d3e63e",
   "metadata": {},
   "outputs": [
    {
     "name": "stdout",
     "output_type": "stream",
     "text": [
      "[[1. 0. 0. 0.]\n",
      " [0. 1. 0. 0.]\n",
      " [0. 0. 1. 0.]\n",
      " [0. 0. 0. 1.]]\n"
     ]
    }
   ],
   "source": [
    "#Ex.7\n",
    "import numpy as np\n",
    "arr = np.eye(4)\n",
    "\n",
    "print(arr)"
   ]
  },
  {
   "cell_type": "code",
   "execution_count": 29,
   "id": "e4edbaef-b683-4656-a9d8-3fa7246d92d6",
   "metadata": {},
   "outputs": [
    {
     "name": "stdout",
     "output_type": "stream",
     "text": [
      "Sum: 45\n",
      "Mean: 4.5\n"
     ]
    }
   ],
   "source": [
    "#Ex.8\n",
    "import numpy as np\n",
    "arr = np.arange(10)  # [0, 1, 2, 3, 4, 5, 6, 7, 8, 9]\n",
    "print('Sum:', arr.sum())\n",
    "print('Mean:', arr.mean())\n"
   ]
  },
  {
   "cell_type": "code",
   "execution_count": 32,
   "id": "972dc80e-f97d-4ba0-9f85-ec6b73ebf73f",
   "metadata": {},
   "outputs": [
    {
     "name": "stdout",
     "output_type": "stream",
     "text": [
      "[[ 1  2  3  4  5]\n",
      " [ 6  7  8  9 10]\n",
      " [11 12 13 14 15]\n",
      " [16 17 18 19 20]]\n"
     ]
    }
   ],
   "source": [
    "#Ex.9\n",
    "import numpy as np\n",
    "arr = np.arange(1, 21)\n",
    "arr = arr.reshape(4, 5)\n",
    "print(arr)"
   ]
  },
  {
   "cell_type": "code",
   "execution_count": 34,
   "id": "3470c104-3e64-41b2-81b6-de2462844d96",
   "metadata": {},
   "outputs": [
    {
     "name": "stdout",
     "output_type": "stream",
     "text": [
      "Odd numbers: [ 1  3  5  7  9 11 13 15 17 19]\n"
     ]
    }
   ],
   "source": [
    "#Ex.10\n",
    "import numpy as np\n",
    "\n",
    "array = np.arange(20)  # [0, 1, 2, ..., 19]\n",
    "odd_numbers = array[array % 2 == 1]\n",
    "print(\"Odd numbers:\", odd_numbers)\n"
   ]
  },
  {
   "cell_type": "code",
   "execution_count": null,
   "id": "e54a7d7d-fac4-484f-a34c-a48be59679d0",
   "metadata": {},
   "outputs": [],
   "source": []
  }
 ],
 "metadata": {
  "kernelspec": {
   "display_name": "Python [conda env:base] *",
   "language": "python",
   "name": "conda-base-py"
  },
  "language_info": {
   "codemirror_mode": {
    "name": "ipython",
    "version": 3
   },
   "file_extension": ".py",
   "mimetype": "text/x-python",
   "name": "python",
   "nbconvert_exporter": "python",
   "pygments_lexer": "ipython3",
   "version": "3.12.7"
  }
 },
 "nbformat": 4,
 "nbformat_minor": 5
}
