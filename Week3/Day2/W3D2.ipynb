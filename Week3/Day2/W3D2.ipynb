{
 "cells": [
  {
   "cell_type": "code",
   "execution_count": 17,
   "id": "dd89025a-f191-41e1-95e3-bb0b32eeee66",
   "metadata": {
    "scrolled": true
   },
   "outputs": [
    {
     "name": "stdout",
     "output_type": "stream",
     "text": [
      "   0 First Name  Last Name  Gender        Country  Age        Date    Id\n",
      "5  6     Gaston      Brumm    Male  United States   24  21/05/2015  2554\n",
      "1  2       Mara  Hashimoto  Female  Great Britain   25  16/08/2016  1582\n",
      "3  4   Kathleen     Hanner  Female  United States   25  15/10/2017  3549\n",
      "7  8    Earlean     Melgar  Female  United States   27  16/08/2016  2456\n",
      "0  1      Dulce      Abril  Female  United States   32  15/10/2017  1562\n",
      "2  3     Philip       Gent    Male         France   36  21/05/2015  2587\n",
      "8  9   Vincenza    Weiland  Female  United States   40  21/05/2015  6548\n",
      "6  7       Etta       Hurn  Female  Great Britain   56  15/10/2017  3598\n",
      "4  5    Nereida    Magwood  Female  United States   58  16/08/2016  2468\n",
      "   0 First Name Last Name  Gender        Country  Age        Date    Id\n",
      "0  1      Dulce     Abril  Female  United States   32  15/10/2017  1562\n",
      "2  3     Philip      Gent    Male         France   36  21/05/2015  2587\n",
      "4  5    Nereida   Magwood  Female  United States   58  16/08/2016  2468\n",
      "6  7       Etta      Hurn  Female  Great Britain   56  15/10/2017  3598\n",
      "8  9   Vincenza   Weiland  Female  United States   40  21/05/2015  6548\n"
     ]
    }
   ],
   "source": [
    "import pandas as pd\n",
    "# data = pd.Series([1, 3, 5, 7, 9])\n",
    "# data = {\n",
    "#     'Name': ['John', 'Anna', 'Peter', 'Linda'],\n",
    "#     'Age': [28, 34, 29, 32],\n",
    "#     'City': ['New York', 'Paris', 'Berlin', 'London']\n",
    "# }\n",
    "df = pd.DataFrame(data)\n",
    "\n",
    "df = pd.read_excel(\"sample_data.xls\")\n",
    "\n",
    "df.sort_values(by='Age')\n",
    "\n",
    "print(df.sort_values(by='Age'))\n",
    "print(df[df['Age'] > 30])"
   ]
  },
  {
   "cell_type": "code",
   "execution_count": 19,
   "id": "9a568d79-c638-420e-a59f-9c270545d692",
   "metadata": {},
   "outputs": [
    {
     "name": "stdout",
     "output_type": "stream",
     "text": [
      "   PassengerId  Survived  Pclass  \\\n",
      "0            1         0       3   \n",
      "1            2         1       1   \n",
      "2            3         1       3   \n",
      "3            4         1       1   \n",
      "4            5         0       3   \n",
      "\n",
      "                                                Name     Sex   Age  SibSp  \\\n",
      "0                            Braund, Mr. Owen Harris    male  22.0      1   \n",
      "1  Cumings, Mrs. John Bradley (Florence Briggs Th...  female  38.0      1   \n",
      "2                             Heikkinen, Miss. Laina  female  26.0      0   \n",
      "3       Futrelle, Mrs. Jacques Heath (Lily May Peel)  female  35.0      1   \n",
      "4                           Allen, Mr. William Henry    male  35.0      0   \n",
      "\n",
      "   Parch            Ticket     Fare Cabin Embarked  \n",
      "0      0         A/5 21171   7.2500   NaN        S  \n",
      "1      0          PC 17599  71.2833   C85        C  \n",
      "2      0  STON/O2. 3101282   7.9250   NaN        S  \n",
      "3      0            113803  53.1000  C123        S  \n",
      "4      0            373450   8.0500   NaN        S  \n"
     ]
    }
   ],
   "source": [
    "#Ex.3\n",
    "import pandas as pd\n",
    "\n",
    "# Загрузка файла\n",
    "df = pd.read_csv('train.zip')\n",
    "\n",
    "# Показать первые строки\n",
    "print(df.head())"
   ]
  },
  {
   "cell_type": "code",
   "execution_count": 20,
   "id": "96cd763c-2d01-40ca-8e3b-6eeb95951ecb",
   "metadata": {},
   "outputs": [
    {
     "name": "stdout",
     "output_type": "stream",
     "text": [
      "   5.1  3.5  1.4  0.2  Iris-setosa\n",
      "0  4.9  3.0  1.4  0.2  Iris-setosa\n",
      "1  4.7  3.2  1.3  0.2  Iris-setosa\n",
      "2  4.6  3.1  1.5  0.2  Iris-setosa\n",
      "3  5.0  3.6  1.4  0.2  Iris-setosa\n",
      "4  5.4  3.9  1.7  0.4  Iris-setosa\n"
     ]
    }
   ],
   "source": [
    "#Ex.4\n",
    "import pandas as pd\n",
    "\n",
    "# Загрузка файла\n",
    "df = pd.read_csv('Iris_dataset.zip')\n",
    "print(df.head())"
   ]
  },
  {
   "cell_type": "code",
   "execution_count": 22,
   "id": "e4c2cdf5-8725-4542-bb1d-0090d7ee5561",
   "metadata": {},
   "outputs": [],
   "source": [
    "#Ex.5\n",
    "import pandas as pd\n",
    "\n",
    "# Создание простого DataFrame\n",
    "data = {\n",
    "    'Name': ['Alice', 'Bob', 'Charlie'],\n",
    "    'Age': [25, 30, 35],\n",
    "    'City': ['New York', 'Paris', 'London']\n",
    "}\n",
    "\n",
    "df = pd.DataFrame(data)\n",
    "\n",
    "df.to_excel('people.xlsx', index=False)\n",
    "\n",
    "df.to_json('people.json', orient='records', indent=4)\n"
   ]
  },
  {
   "cell_type": "code",
   "execution_count": 23,
   "id": "7940f8c5-47a8-4e53-b84b-68beb47c8c17",
   "metadata": {},
   "outputs": [
    {
     "name": "stdout",
     "output_type": "stream",
     "text": [
      "   sepalLength  sepalWidth  petalLength  petalWidth species\n",
      "0          5.1         3.5          1.4         0.2  setosa\n",
      "1          4.9         3.0          1.4         0.2  setosa\n",
      "2          4.7         3.2          1.3         0.2  setosa\n",
      "3          4.6         3.1          1.5         0.2  setosa\n",
      "4          5.0         3.6          1.4         0.2  setosa\n"
     ]
    }
   ],
   "source": [
    "#Ex.6\n",
    "import pandas as pd\n",
    "\n",
    "# Load the local JSON file\n",
    "df = pd.read_json(\"Iris.json\")\n",
    "\n",
    "# Show the first 5 rows\n",
    "print(df.head())\n"
   ]
  },
  {
   "cell_type": "code",
   "execution_count": null,
   "id": "28e8442a-b241-4d15-9359-1c4529931948",
   "metadata": {},
   "outputs": [],
   "source": []
  }
 ],
 "metadata": {
  "kernelspec": {
   "display_name": "Python 3 (ipykernel)",
   "language": "python",
   "name": "python3"
  },
  "language_info": {
   "codemirror_mode": {
    "name": "ipython",
    "version": 3
   },
   "file_extension": ".py",
   "mimetype": "text/x-python",
   "name": "python",
   "nbconvert_exporter": "python",
   "pygments_lexer": "ipython3",
   "version": "3.13.3"
  }
 },
 "nbformat": 4,
 "nbformat_minor": 5
}
