{
 "cells": [
  {
   "cell_type": "code",
   "execution_count": 1,
   "id": "dd89025a-f191-41e1-95e3-bb0b32eeee66",
   "metadata": {
    "scrolled": true
   },
   "outputs": [
    {
     "ename": "NameError",
     "evalue": "name 'data' is not defined",
     "output_type": "error",
     "traceback": [
      "\u001b[31m---------------------------------------------------------------------------\u001b[39m",
      "\u001b[31mNameError\u001b[39m                                 Traceback (most recent call last)",
      "\u001b[36mCell\u001b[39m\u001b[36m \u001b[39m\u001b[32mIn[1]\u001b[39m\u001b[32m, line 8\u001b[39m\n\u001b[32m      1\u001b[39m \u001b[38;5;28;01mimport\u001b[39;00m\u001b[38;5;250m \u001b[39m\u001b[34;01mpandas\u001b[39;00m\u001b[38;5;250m \u001b[39m\u001b[38;5;28;01mas\u001b[39;00m\u001b[38;5;250m \u001b[39m\u001b[34;01mpd\u001b[39;00m\n\u001b[32m      2\u001b[39m \u001b[38;5;66;03m# data = pd.Series([1, 3, 5, 7, 9])\u001b[39;00m\n\u001b[32m      3\u001b[39m \u001b[38;5;66;03m# data = {\u001b[39;00m\n\u001b[32m      4\u001b[39m \u001b[38;5;66;03m#     'Name': ['John', 'Anna', 'Peter', 'Linda'],\u001b[39;00m\n\u001b[32m      5\u001b[39m \u001b[38;5;66;03m#     'Age': [28, 34, 29, 32],\u001b[39;00m\n\u001b[32m      6\u001b[39m \u001b[38;5;66;03m#     'City': ['New York', 'Paris', 'Berlin', 'London']\u001b[39;00m\n\u001b[32m      7\u001b[39m \u001b[38;5;66;03m# }\u001b[39;00m\n\u001b[32m----> \u001b[39m\u001b[32m8\u001b[39m df = pd.DataFrame(\u001b[43mdata\u001b[49m)\n\u001b[32m     10\u001b[39m df = pd.read_excel(\u001b[33m\"\u001b[39m\u001b[33msample_data.xls\u001b[39m\u001b[33m\"\u001b[39m)\n\u001b[32m     12\u001b[39m df.sort_values(by=\u001b[33m'\u001b[39m\u001b[33mAge\u001b[39m\u001b[33m'\u001b[39m)\n",
      "\u001b[31mNameError\u001b[39m: name 'data' is not defined"
     ]
    }
   ],
   "source": [
    "import pandas as pd\n",
    "# data = pd.Series([1, 3, 5, 7, 9])\n",
    "# data = {\n",
    "#     'Name': ['John', 'Anna', 'Peter', 'Linda'],\n",
    "#     'Age': [28, 34, 29, 32],\n",
    "#     'City': ['New York', 'Paris', 'Berlin', 'London']\n",
    "# }\n",
    "df = pd.DataFrame(data)\n",
    "\n",
    "df = pd.read_excel(\"sample_data.xls\")\n",
    "\n",
    "df.sort_values(by='Age')\n",
    "\n",
    "print(df.sort_values(by='Age'))\n",
    "print(df[df['Age'] > 30])"
   ]
  },
  {
   "cell_type": "code",
   "execution_count": null,
   "id": "9a568d79-c638-420e-a59f-9c270545d692",
   "metadata": {},
   "outputs": [],
   "source": [
    "#Ex.3\n",
    "import pandas as pd\n",
    "\n",
    "# Загрузка файла\n",
    "df = pd.read_csv('train.zip')\n",
    "\n",
    "# Показать первые строки\n",
    "print(df.head())"
   ]
  },
  {
   "cell_type": "code",
   "execution_count": null,
   "id": "96cd763c-2d01-40ca-8e3b-6eeb95951ecb",
   "metadata": {},
   "outputs": [],
   "source": [
    "#Ex.4\n",
    "import pandas as pd\n",
    "\n",
    "# Загрузка файла\n",
    "df = pd.read_csv('Iris_dataset.zip')\n",
    "print(df.head())"
   ]
  },
  {
   "cell_type": "code",
   "execution_count": null,
   "id": "e4c2cdf5-8725-4542-bb1d-0090d7ee5561",
   "metadata": {},
   "outputs": [],
   "source": [
    "#Ex.5\n",
    "import pandas as pd\n",
    "\n",
    "# Создание простого DataFrame\n",
    "data = {\n",
    "    'Name': ['Alice', 'Bob', 'Charlie'],\n",
    "    'Age': [25, 30, 35],\n",
    "    'City': ['New York', 'Paris', 'London']\n",
    "}\n",
    "\n",
    "df = pd.DataFrame(data)\n",
    "\n",
    "df.to_excel('people.xlsx', index=False)\n",
    "\n",
    "df.to_json('people.json', orient='records', indent=4)\n"
   ]
  },
  {
   "cell_type": "code",
   "execution_count": null,
   "id": "f84250ee-f53f-477d-abd2-8f786db7d313",
   "metadata": {},
   "outputs": [],
   "source": [
    "#Ex.6\n",
    "import pandas as pd\n",
    "\n",
    "# Load the local JSON file\n",
    "df = pd.read_json(\"Iris.json\")\n",
    "\n",
    "# Show the first 5 rows\n",
    "print(df.head())\n"
   ]
  },
  {
   "cell_type": "code",
   "execution_count": null,
   "id": "c32b12e7-03aa-4c5c-aec3-bd80c3f149d6",
   "metadata": {},
   "outputs": [],
   "source": []
  }
 ],
 "metadata": {
  "kernelspec": {
   "display_name": "Python 3 (ipykernel)",
   "language": "python",
   "name": "python3"
  },
  "language_info": {
   "codemirror_mode": {
    "name": "ipython",
    "version": 3
   },
   "file_extension": ".py",
   "mimetype": "text/x-python",
   "name": "python",
   "nbconvert_exporter": "python",
   "pygments_lexer": "ipython3",
   "version": "3.13.3"
  }
 },
 "nbformat": 4,
 "nbformat_minor": 5
}
