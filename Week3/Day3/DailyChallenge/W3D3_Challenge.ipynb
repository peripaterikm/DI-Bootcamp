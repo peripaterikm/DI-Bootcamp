{
 "cells": [
  {
   "cell_type": "code",
   "execution_count": 4,
   "id": "7bda4e65-c0ae-449b-9729-273935f27dda",
   "metadata": {},
   "outputs": [
    {
     "name": "stdout",
     "output_type": "stream",
     "text": [
      "  experience_level          mean   median\n",
      "0            Entry  36111.111111  30000.0\n",
      "1        Executive  76076.923077  46000.0\n",
      "2              Mid  51786.885246  51000.0\n",
      "3           Senior  75088.033012  68000.0\n"
     ]
    }
   ],
   "source": [
    "import pandas as pd\n",
    "from sklearn.preprocessing import MinMaxScaler\n",
    "from sklearn.decomposition import PCA\n",
    "from IPython.display import display\n",
    "\n",
    "# Загрузка набора данных (предполагаем, что файл уже загружен и называется 'ds_salaries.csv')\n",
    "file_path = \"ds_salaries.csv\"\n",
    "df = pd.read_csv(file_path)\n",
    "\n",
    "# 1. Нормализация столбца 'salary' с помощью Min-Max\n",
    "scaler = MinMaxScaler()\n",
    "df['salary_normalized'] = scaler.fit_transform(df[['salary']])\n",
    "\n",
    "# 2. Применение PCA (сократим до 2 компонент для визуализации и анализа)\n",
    "numeric_df = df.select_dtypes(include=['int64', 'float64']).drop(columns=['salary'])  # исключаем исходный salary\n",
    "pca = PCA(n_components=2)\n",
    "principal_components = pca.fit_transform(numeric_df.fillna(0))  # заполняем NaN нулями для PCA\n",
    "\n",
    "df['PCA1'] = principal_components[:, 0]\n",
    "df['PCA2'] = principal_components[:, 1]\n",
    "\n",
    "# 3. Группировка по уровню опыта и расчёт средней и медианной зарплаты\n",
    "salary_stats = df.groupby('experience_level')['salary'].agg(['mean', 'median']).reset_index()\n",
    "\n",
    "# Отображение результата\n",
    "print(salary_stats)\n",
    "\n",
    "\n"
   ]
  },
  {
   "cell_type": "code",
   "execution_count": null,
   "id": "e71b76bb-1c4e-458e-a8fd-f23833211752",
   "metadata": {},
   "outputs": [],
   "source": []
  }
 ],
 "metadata": {
  "kernelspec": {
   "display_name": "Python 3 (ipykernel)",
   "language": "python",
   "name": "python3"
  },
  "language_info": {
   "codemirror_mode": {
    "name": "ipython",
    "version": 3
   },
   "file_extension": ".py",
   "mimetype": "text/x-python",
   "name": "python",
   "nbconvert_exporter": "python",
   "pygments_lexer": "ipython3",
   "version": "3.13.3"
  }
 },
 "nbformat": 4,
 "nbformat_minor": 5
}
