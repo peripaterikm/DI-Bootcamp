{
 "cells": [
  {
   "cell_type": "markdown",
   "id": "97e3b87d",
   "metadata": {},
   "source": [
    "# 🕸️ Парсинг тарифов с inmotionhosting.com с помощью Selenium и BeautifulSoup"
   ]
  },
  {
   "cell_type": "code",
   "execution_count": null,
   "id": "d47029a9",
   "metadata": {},
   "outputs": [],
   "source": [
    "import time\n",
    "import pandas as pd\n",
    "import chromedriver_autoinstaller\n",
    "from selenium import webdriver\n",
    "from selenium.webdriver.chrome.options import Options\n",
    "from bs4 import BeautifulSoup\n"
   ]
  },
  {
   "cell_type": "markdown",
   "id": "96a2e0c5",
   "metadata": {},
   "source": [
    "## ✅ Шаг 1: Установка и настройка Chromedriver"
   ]
  },
  {
   "cell_type": "code",
   "execution_count": null,
   "id": "6ae99324",
   "metadata": {},
   "outputs": [],
   "source": [
    "# Автоматическая установка подходящего chromedriver\n",
    "chromedriver_autoinstaller.install()\n",
    "\n",
    "# Настройка опций Chrome (обычный режим, не headless)\n",
    "options = Options()\n",
    "# Не включаем headless: inmotionhosting скрывает данные от headless-браузеров\n",
    "# options.add_argument(\"--headless\")  # keep this line commented\n",
    "driver = webdriver.Chrome(options=options)\n"
   ]
  },
  {
   "cell_type": "markdown",
   "id": "592bf622",
   "metadata": {},
   "source": [
    "## 🌐 Шаг 2: Загрузка страницы"
   ]
  },
  {
   "cell_type": "code",
   "execution_count": null,
   "id": "53d9c017",
   "metadata": {},
   "outputs": [],
   "source": [
    "driver.get(\"https://www.inmotionhosting.com/web-hosting/\")\n",
    "time.sleep(10)  # Ждём полной загрузки страницы\n"
   ]
  },
  {
   "cell_type": "markdown",
   "id": "96b1405f",
   "metadata": {},
   "source": [
    "## 🧠 Шаг 3: Парсинг страницы через BeautifulSoup"
   ]
  },
  {
   "cell_type": "code",
   "execution_count": null,
   "id": "77c3cf1e",
   "metadata": {},
   "outputs": [],
   "source": [
    "soup = BeautifulSoup(driver.page_source, 'html.parser')\n",
    "plan_cards = soup.select('.panel-wrapper')\n",
    "print(\"Found panels:\", len(plan_cards))\n"
   ]
  },
  {
   "cell_type": "markdown",
   "id": "8725234b",
   "metadata": {},
   "source": [
    "## 📊 Шаг 4: Извлечение и отображение данных"
   ]
  },
  {
   "cell_type": "code",
   "execution_count": null,
   "id": "75452f6b",
   "metadata": {},
   "outputs": [],
   "source": [
    "plans = []\n",
    "for card in plan_cards:\n",
    "    name = card.select_one('.panel-title')\n",
    "    price = card.select_one('.price')\n",
    "    features = [li.get_text(strip=True) for li in card.select('ul li')]\n",
    "    plans.append({\n",
    "        \"Plan\": name.get_text(strip=True) if name else \"N/A\",\n",
    "        \"Price\": price.get_text(strip=True) if price else \"N/A\",\n",
    "        \"Features\": \"; \".join(features)\n",
    "    })\n",
    "\n",
    "df = pd.DataFrame(plans)\n",
    "df.to_csv(\"hosting_plans.csv\", index=False)\n",
    "df.head()\n"
   ]
  },
  {
   "cell_type": "code",
   "execution_count": null,
   "id": "576e44f4",
   "metadata": {},
   "outputs": [],
   "source": [
    "driver.quit()"
   ]
  }
 ],
 "metadata": {},
 "nbformat": 4,
 "nbformat_minor": 5
}
