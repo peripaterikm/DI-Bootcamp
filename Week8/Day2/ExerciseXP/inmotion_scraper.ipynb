{
 "cells": [
  {
   "cell_type": "markdown",
   "id": "272d2387",
   "metadata": {},
   "source": [
    "# 🕸️ Парсинг тарифов с inmotionhosting.com с помощью Selenium и BeautifulSoup"
   ]
  },
  {
   "cell_type": "markdown",
   "id": "dc6ea436",
   "metadata": {},
   "source": [
    "## ✅ Шаг 1: Импорт библиотек"
   ]
  },
  {
   "cell_type": "code",
   "execution_count": null,
   "id": "991f2422",
   "metadata": {},
   "outputs": [],
   "source": [
    "import time\n",
    "import pandas as pd\n",
    "import chromedriver_autoinstaller\n",
    "from selenium import webdriver\n",
    "from selenium.webdriver.chrome.options import Options\n",
    "from bs4 import BeautifulSoup"
   ]
  },
  {
   "cell_type": "markdown",
   "id": "99a5f0d8",
   "metadata": {},
   "source": [
    "## 🔧 Шаг 2: Установка и настройка Chromedriver"
   ]
  },
  {
   "cell_type": "code",
   "execution_count": null,
   "id": "6f75cba3",
   "metadata": {},
   "outputs": [],
   "source": [
    "# Устанавливаем подходящий chromedriver\n",
    "chromedriver_autoinstaller.install()\n",
    "\n",
    "# Настраиваем Chrome (НЕ headless!)\n",
    "options = Options()\n",
    "# Не включаем headless: сайт может не отрисовать данные\n",
    "# options.add_argument(\"--headless\")  # оставить закомментированным\n",
    "\n",
    "driver = webdriver.Chrome(options=options)"
   ]
  },
  {
   "cell_type": "markdown",
   "id": "8e54a2e5",
   "metadata": {},
   "source": [
    "## 🌍 Шаг 3: Загружаем страницу и ждём"
   ]
  },
  {
   "cell_type": "code",
   "execution_count": null,
   "id": "c0bd4d56",
   "metadata": {},
   "outputs": [],
   "source": [
    "# Открываем сайт\n",
    "driver.get(\"https://www.inmotionhosting.com/web-hosting/\")\n",
    "time.sleep(10)  # ждём полной загрузки"
   ]
  },
  {
   "cell_type": "markdown",
   "id": "31cfe420",
   "metadata": {},
   "source": [
    "## 🧪 Шаг 4: Парсим HTML через BeautifulSoup"
   ]
  },
  {
   "cell_type": "code",
   "execution_count": null,
   "id": "3e6aa262",
   "metadata": {},
   "outputs": [],
   "source": [
    "soup = BeautifulSoup(driver.page_source, 'html.parser')\n",
    "plan_cards = soup.select('.panel-wrapper')\n",
    "print(\"Найдено карточек:\", len(plan_cards))"
   ]
  },
  {
   "cell_type": "markdown",
   "id": "d431e5b2",
   "metadata": {},
   "source": [
    "## 📊 Шаг 5: Извлекаем данные о тарифах"
   ]
  },
  {
   "cell_type": "code",
   "execution_count": null,
   "id": "73f540cc",
   "metadata": {},
   "outputs": [],
   "source": [
    "plans = []\n",
    "for card in plan_cards:\n",
    "    name = card.select_one('.panel-title')\n",
    "    price = card.select_one('.price')\n",
    "    features = [li.get_text(strip=True) for li in card.select('ul li')]\n",
    "    plans.append({\n",
    "        \"Тариф\": name.get_text(strip=True) if name else \"N/A\",\n",
    "        \"Цена\": price.get_text(strip=True) if price else \"N/A\",\n",
    "        \"Особенности\": \"; \".join(features)\n",
    "    })\n",
    "\n",
    "df = pd.DataFrame(plans)\n",
    "df.to_csv(\"hosting_plans.csv\", index=False)\n",
    "df.head()"
   ]
  },
  {
   "cell_type": "markdown",
   "id": "98a0bf4a",
   "metadata": {},
   "source": [
    "## ✅ Завершаем работу"
   ]
  },
  {
   "cell_type": "code",
   "execution_count": null,
   "id": "7cd099bf",
   "metadata": {},
   "outputs": [],
   "source": [
    "driver.quit()"
   ]
  }
 ],
 "metadata": {},
 "nbformat": 4,
 "nbformat_minor": 5
}
